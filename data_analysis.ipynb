{
 "cells": [
  {
   "cell_type": "code",
   "execution_count": 5,
   "metadata": {},
   "outputs": [],
   "source": [
    "import numpy as np \n",
    "import pandas as pd\n",
    "import os\n",
    "import pickle"
   ]
  },
  {
   "cell_type": "code",
   "execution_count": 6,
   "metadata": {},
   "outputs": [],
   "source": [
    "TARGET_FOLDER = 'logs/vehs_10'\n",
    "\n",
    "# load states and actions\n",
    "with open(f'{TARGET_FOLDER}/states.pkl', 'rb') as f:\n",
    "    states = pickle.load(f)\n",
    "with open(f'{TARGET_FOLDER}/actions.pkl', 'rb') as f:\n",
    "    actions = pickle.load(f)\n"
   ]
  },
  {
   "cell_type": "code",
   "execution_count": 7,
   "metadata": {},
   "outputs": [
    {
     "name": "stdout",
     "output_type": "stream",
     "text": [
      "Percentage of non-greedy actions: 0.0\n",
      "Percentage of greedy actions: 1.0\n"
     ]
    }
   ],
   "source": [
    "# get the percentage of policy action that are 1\n",
    "non_greedy_actions = np.sum(actions)\n",
    "print(f'Percentage of non-greedy actions: {non_greedy_actions/len(actions)}')\n",
    "print(f'Percentage of greedy actions: {1 - non_greedy_actions/len(actions)}')"
   ]
  },
  {
   "cell_type": "code",
   "execution_count": null,
   "metadata": {},
   "outputs": [],
   "source": []
  }
 ],
 "metadata": {
  "kernelspec": {
   "display_name": "amod",
   "language": "python",
   "name": "python3"
  },
  "language_info": {
   "codemirror_mode": {
    "name": "ipython",
    "version": 3
   },
   "file_extension": ".py",
   "mimetype": "text/x-python",
   "name": "python",
   "nbconvert_exporter": "python",
   "pygments_lexer": "ipython3",
   "version": "3.9.18"
  }
 },
 "nbformat": 4,
 "nbformat_minor": 2
}
